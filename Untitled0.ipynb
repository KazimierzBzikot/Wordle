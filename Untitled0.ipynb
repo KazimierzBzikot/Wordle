{
 "cells": [
  {
   "cell_type": "code",
   "execution_count": 10,
   "metadata": {
    "colab": {
     "base_uri": "https://localhost:8080/",
     "height": 358
    },
    "id": "cu17hkIoQ4NA",
    "outputId": "df30baeb-a7a6-41b3-eead-57d2cb4d22b4"
   },
   "outputs": [],
   "source": [
    "import numpy as np\n",
    "import random\n",
    "import seaborn as sns\n",
    "import matplotlib.pyplot as plt\n",
    "from IPython.display import clear_output\n",
    "\n",
    "# Produces a list of all uppercase strings from the .txt file.\n",
    "all_words = [x.upper() for x in np.loadtxt(\"5_letter_words.txt\", dtype = str)]"
   ]
  },
  {
   "cell_type": "code",
   "execution_count": 11,
   "metadata": {
    "id": "hsX6VK67T6RN"
   },
   "outputs": [],
   "source": [
    "def input_word(all_words):\n",
    "  \"\"\"\n",
    "  Function that checks whether an input word is valid.\n",
    "  Word length must be 5. The word must be within the dictionary.\n",
    "\n",
    "  Inputs\n",
    "  =-=-=-=-=-=-=-=\n",
    "  all_words : List\n",
    "      List of 5 character strings from the english lexicon.\n",
    "\n",
    "  Outputs\n",
    "  =-=-=-=-=-=-=-=\n",
    "  guess : string\n",
    "      String of 5 characters corresponding to a 5-lettered word in the english lexicon.\n",
    "  \"\"\"\n",
    "\n",
    "  word_length = 0\n",
    "  print(\"Input a 5-lettered word:\")\n",
    "  while word_length != 5:\n",
    "    # Takes input, .upper() is a method that capitalises strings.\n",
    "    guess = input().upper()\n",
    "    # Length of word.\n",
    "    word_length = len(guess)\n",
    "    # Checking the guessed word is in the list of all english words.\n",
    "    if guess not in all_words:\n",
    "      # If it is not, set length so the while loop repeats.\n",
    "      word_length = 0\n",
    "      # Prompt a new guess.\n",
    "      print(\"Please input a 5-lettered word:\")\n",
    "\n",
    "  # Return the guessed word once they decide on an 5-lettered english word.\n",
    "  return guess\n",
    "\n",
    "def wordle(all_words):\n",
    "  \"\"\"\n",
    "  Function that replicates the hit game Wordle.\n",
    "\n",
    "  Inputs\n",
    "  =-=-=-=-=-=-=-=\n",
    "  all_words : List\n",
    "    List of 5 character strings from the english lexicon.\n",
    "\n",
    "  Outputs\n",
    "  =-=-=-=-=-=-=-=\n",
    "  None\n",
    "  \"\"\"\n",
    "\n",
    "  # Takes a word at random from the list of all words.\n",
    "  secret_word = random.choice(all_words)\n",
    "  guess_number = 0\n",
    "  win = False\n",
    "  while guess_number < 6:\n",
    "    # Using previously defined function, guess is a 5-lettered english word.\n",
    "    guess = input_word(all_words)\n",
    "    # List copy of the secret word, which doesn't point to the original.\n",
    "    secret_copy = list(secret_word)\n",
    "    # Need a counter for the pops done on the secret_copy otherwise the index points to a different letter.\n",
    "    pop_counter = 0\n",
    "    # For each letter and its index within the string.\n",
    "    for count, letter in enumerate(guess):\n",
    "      # The letter is correct, and in the right place.\n",
    "      if secret_word[count] == letter:\n",
    "        # If correct, removes the letter from the copy of the secret word by index not value.\n",
    "        secret_copy.pop(count - pop_counter)\n",
    "        # Increments the pop counter.\n",
    "        pop_counter += 1\n",
    "        print(f\"{letter} is correct.\")\n",
    "      # Checking whether the letter exists elsewhere.\n",
    "      elif letter in secret_copy:\n",
    "        print(f\"{letter} is in the wrong place.\")\n",
    "      # Otherwise the letter just isn't in the word, or it has already been found and is a duplicate. \n",
    "      else:\n",
    "        print(f\"{letter} is wrong.\")\n",
    "    # Increments the number of guesses.\n",
    "    guess_number += 1\n",
    "    # Win condition.\n",
    "    if guess == secret_word:\n",
    "      win = True\n",
    "      break\n",
    "\n",
    "  if win == True:\n",
    "    print(f\"Congratulations, {secret_word} was the correct answer and you have won Wordle.\")\n",
    "  else:\n",
    "    print(f\"You suck, stop playing. The word was {secret_word}.\")"
   ]
  },
  {
   "cell_type": "code",
   "execution_count": 12,
   "metadata": {
    "colab": {
     "base_uri": "https://localhost:8080/",
     "height": 576
    },
    "id": "MyQD41qj7I8u",
    "outputId": "33bc0eb4-515c-4c83-9fb6-efc4f493c851"
   },
   "outputs": [
    {
     "name": "stdout",
     "output_type": "stream",
     "text": [
      "Input a 5-lettered word:\n"
     ]
    },
    {
     "name": "stdin",
     "output_type": "stream",
     "text": [
      " apple\n"
     ]
    },
    {
     "name": "stdout",
     "output_type": "stream",
     "text": [
      "A is wrong.\n",
      "P is wrong.\n",
      "P is wrong.\n",
      "L is wrong.\n",
      "E is wrong.\n",
      "Input a 5-lettered word:\n"
     ]
    },
    {
     "name": "stdin",
     "output_type": "stream",
     "text": [
      " anger\n"
     ]
    },
    {
     "name": "stdout",
     "output_type": "stream",
     "text": [
      "A is wrong.\n",
      "N is wrong.\n",
      "G is wrong.\n",
      "E is wrong.\n",
      "R is wrong.\n",
      "Input a 5-lettered word:\n"
     ]
    },
    {
     "name": "stdin",
     "output_type": "stream",
     "text": [
      " \n"
     ]
    },
    {
     "name": "stdout",
     "output_type": "stream",
     "text": [
      "Please input a 5-lettered word:\n"
     ]
    },
    {
     "name": "stdin",
     "output_type": "stream",
     "text": [
      " drive\n"
     ]
    },
    {
     "name": "stdout",
     "output_type": "stream",
     "text": [
      "D is wrong.\n",
      "R is wrong.\n",
      "I is wrong.\n",
      "V is wrong.\n",
      "E is wrong.\n",
      "Input a 5-lettered word:\n"
     ]
    },
    {
     "name": "stdin",
     "output_type": "stream",
     "text": [
      " charm\n"
     ]
    },
    {
     "name": "stdout",
     "output_type": "stream",
     "text": [
      "C is wrong.\n",
      "H is wrong.\n",
      "A is wrong.\n",
      "R is wrong.\n",
      "M is wrong.\n",
      "Input a 5-lettered word:\n"
     ]
    },
    {
     "name": "stdin",
     "output_type": "stream",
     "text": [
      " calms\n"
     ]
    },
    {
     "name": "stdout",
     "output_type": "stream",
     "text": [
      "C is wrong.\n",
      "A is wrong.\n",
      "L is wrong.\n",
      "M is wrong.\n",
      "S is correct.\n",
      "Input a 5-lettered word:\n"
     ]
    },
    {
     "name": "stdin",
     "output_type": "stream",
     "text": [
      " tells\n"
     ]
    },
    {
     "name": "stdout",
     "output_type": "stream",
     "text": [
      "T is in the wrong place.\n",
      "E is wrong.\n",
      "L is wrong.\n",
      "L is wrong.\n",
      "S is correct.\n",
      "You suck, stop playing. The word was OUSTS.\n"
     ]
    }
   ],
   "source": [
    "wordle(all_words)"
   ]
  },
  {
   "cell_type": "markdown",
   "metadata": {
    "id": "CfUDZuKQVM-N"
   },
   "source": [
    "In the previous wordle, the letters in the wrong place are found by considering the remaining letters (that haven't yet been found to be correct). However, if a letter is found to be contained within the remainder string (and therefore is marked as in the wrong place) but the remainder letter is an unchecked \"correct\" letter, the initial letter will be a confusing duplicate which is wrong, but instead categorised as in the wrong place.\n",
    "\n",
    "The following code fixes that issue:"
   ]
  },
  {
   "cell_type": "code",
   "execution_count": 13,
   "metadata": {
    "id": "W4o_zdmofX0l"
   },
   "outputs": [],
   "source": [
    "def better_wordle(all_words):\n",
    "  \"\"\"\n",
    "  Function that replicates the hit game Wordle.\n",
    "\n",
    "  Inputs\n",
    "  =-=-=-=-=-=-=-=\n",
    "  all_words : List\n",
    "    List of 5 character strings from the english lexicon.\n",
    "\n",
    "  Outputs\n",
    "  =-=-=-=-=-=-=-=\n",
    "  None\n",
    "  \"\"\"\n",
    "\n",
    "  # Takes a word at random from the list of all words.\n",
    "  secret_word = random.choice(all_words)\n",
    "  guess_number = 0\n",
    "  win = False\n",
    "  while guess_number < 6:\n",
    "    # Using previously defined function, guess is a 5-lettered english word.\n",
    "    guess = input_word(all_words)\n",
    "    # List copy of the secret word, which doesn't point to the original.\n",
    "    secret_copy = list(secret_word)\n",
    "    # Need a counter for the pops done on the secret_copy otherwise the index points to a different letter.\n",
    "    pop_counter = 0\n",
    "    correct_index = []\n",
    "    wrong_mix_index = []\n",
    "    # For each letter and its index within the string.\n",
    "    for count, letter in enumerate(guess):\n",
    "      # The letter is correct and in the right place.\n",
    "      if secret_word[count] == letter:\n",
    "        # If correct, removes the letter from the copy of the secret word by index not value.\n",
    "        secret_copy.pop(count - pop_counter)\n",
    "        # Increments the pop counter.\n",
    "        pop_counter += 1\n",
    "        correct_index.append(count)\n",
    "      # The letter is wrong, or in the wrong place.\n",
    "      else:\n",
    "        wrong_mix_index.append(count)\n",
    "    # Checks whether the wrong letter is in the list of remaining letters in the secret word.\n",
    "    wrong_place_index = [x for x in wrong_mix_index if guess[x] in secret_copy]\n",
    "    # Otherwise the wrong letter is wrong.\n",
    "    wrong_index = [x for x in wrong_mix_index if guess[x] not in wrong_place_index]\n",
    "\n",
    "    for i in range(5):\n",
    "      if i in correct_index:\n",
    "        print(f\"{guess[i]} is correct.\")\n",
    "      elif i in wrong_index:\n",
    "        print(f\"{guess[i]} is wrong.\")\n",
    "      elif i in wrong_place_index:\n",
    "        print(f\"{guess[i]} is in the wrong place.\")\n",
    "      else:\n",
    "        raise ValueError(\"Letter index is not contained in any of the lists\")\n",
    "    # Increments the number of guesses.\n",
    "    guess_number += 1\n",
    "    # Win condition.\n",
    "    if guess == secret_word:\n",
    "      win = True\n",
    "      break\n",
    "\n",
    "  if win == True:\n",
    "    print(f\"Congratulations, {secret_word} was the correct answer and you have won Wordle.\")\n",
    "  else:\n",
    "    print(f\"You suck, stop playing. The word was {secret_word}.\")"
   ]
  },
  {
   "cell_type": "code",
   "execution_count": 14,
   "metadata": {
    "colab": {
     "base_uri": "https://localhost:8080/"
    },
    "id": "Tl75Mh8sgqMR",
    "outputId": "8ed08a2e-5cbe-4cda-cb6e-26bdec569013"
   },
   "outputs": [
    {
     "name": "stdout",
     "output_type": "stream",
     "text": [
      "Input a 5-lettered word:\n"
     ]
    },
    {
     "name": "stdin",
     "output_type": "stream",
     "text": [
      " apple\n"
     ]
    },
    {
     "name": "stdout",
     "output_type": "stream",
     "text": [
      "A is wrong.\n",
      "P is wrong.\n",
      "P is wrong.\n",
      "L is wrong.\n",
      "E is wrong.\n",
      "Input a 5-lettered word:\n"
     ]
    },
    {
     "name": "stdin",
     "output_type": "stream",
     "text": [
      " angels\n"
     ]
    },
    {
     "name": "stdout",
     "output_type": "stream",
     "text": [
      "Please input a 5-lettered word:\n"
     ]
    },
    {
     "name": "stdin",
     "output_type": "stream",
     "text": [
      " charm\n"
     ]
    },
    {
     "name": "stdout",
     "output_type": "stream",
     "text": [
      "C is wrong.\n",
      "H is wrong.\n",
      "A is wrong.\n",
      "R is wrong.\n",
      "M is wrong.\n",
      "Input a 5-lettered word:\n"
     ]
    },
    {
     "name": "stdin",
     "output_type": "stream",
     "text": [
      " ousts\n"
     ]
    },
    {
     "name": "stdout",
     "output_type": "stream",
     "text": [
      "O is wrong.\n",
      "U is wrong.\n",
      "S is wrong.\n",
      "T is wrong.\n",
      "S is correct.\n",
      "Input a 5-lettered word:\n"
     ]
    },
    {
     "name": "stdin",
     "output_type": "stream",
     "text": [
      " tells\n"
     ]
    },
    {
     "name": "stdout",
     "output_type": "stream",
     "text": [
      "T is wrong.\n",
      "E is wrong.\n",
      "L is wrong.\n",
      "L is wrong.\n",
      "S is correct.\n",
      "Input a 5-lettered word:\n"
     ]
    },
    {
     "name": "stdin",
     "output_type": "stream",
     "text": [
      " calms\n"
     ]
    },
    {
     "name": "stdout",
     "output_type": "stream",
     "text": [
      "C is wrong.\n",
      "A is wrong.\n",
      "L is wrong.\n",
      "M is wrong.\n",
      "S is correct.\n",
      "Input a 5-lettered word:\n"
     ]
    },
    {
     "name": "stdin",
     "output_type": "stream",
     "text": [
      " walks\n"
     ]
    },
    {
     "name": "stdout",
     "output_type": "stream",
     "text": [
      "W is correct.\n",
      "A is wrong.\n",
      "L is wrong.\n",
      "K is wrong.\n",
      "S is correct.\n",
      "You suck, stop playing. The word was WIMPS.\n"
     ]
    }
   ],
   "source": [
    "better_wordle(all_words)"
   ]
  },
  {
   "cell_type": "markdown",
   "metadata": {},
   "source": [
    "This would look much better if it actually resembled Wordle as well. I'm using a heatmap to achieve a Wordle-esque green/orange/grey vibe:"
   ]
  },
  {
   "cell_type": "code",
   "execution_count": 17,
   "metadata": {
    "id": "xdQp68OYbeXi"
   },
   "outputs": [],
   "source": [
    "def graphical_wordle(all_words):\n",
    "  \"\"\"\n",
    "  Function that replicates the hit game Wordle.\n",
    "\n",
    "  Inputs\n",
    "  =-=-=-=-=-=-=-=\n",
    "  all_words : List\n",
    "    List of 5 character strings from the english lexicon.\n",
    "\n",
    "  Outputs\n",
    "  =-=-=-=-=-=-=-=\n",
    "  None\n",
    "  \"\"\"\n",
    "\n",
    "  # Takes a word at random from the list of all words.\n",
    "  secret_word = random.choice(all_words)\n",
    "  guess_number = 0\n",
    "  win = False\n",
    "  colours = [\"grey\", \"orange\", \"green\"]\n",
    "  wordle_guesses = [[\"\"]*5]*6\n",
    "  # The map of colours used for the heatmap\n",
    "  colour_values = [[0, 0, 0, 0, 0],\n",
    "                   [0, 0, 0, 0, 0],\n",
    "                   [0, 0, 0, 0, 0],\n",
    "                   [0, 0, 0, 0, 0],\n",
    "                   [0, 0, 0, 0, 0],\n",
    "                   [0, 0, 0, 0, 0]]\n",
    "\n",
    "  while guess_number < 6:\n",
    "    # Using previously defined function, guess is a 5-lettered english word.\n",
    "    guess = input_word(all_words)\n",
    "    wordle_guesses[guess_number] = list(guess)\n",
    "    # List copy of the secret word, which doesn't point to the original.\n",
    "    secret_copy = list(secret_word)\n",
    "    # Need a counter for the pops done on the secret_copy otherwise the index points to a different letter.\n",
    "    pop_counter = 0\n",
    "    correct_index = []\n",
    "    wrong_mix_index = []\n",
    "    # For each letter and its index within the string.\n",
    "    for count, letter in enumerate(guess):\n",
    "      # The letter is correct and in the right place.\n",
    "      if secret_word[count] == letter:\n",
    "        # If correct, removes the letter from the copy of the secret word by index not value.\n",
    "        secret_copy.pop(count - pop_counter)\n",
    "        # Increments the pop counter.\n",
    "        pop_counter += 1\n",
    "        correct_index.append(count)\n",
    "      # The letter is wrong, or in the wrong place.\n",
    "      else:\n",
    "        wrong_mix_index.append(count)\n",
    "    \n",
    "    # Initialise lists\n",
    "    wrong_place_index = []\n",
    "    wrong_index = []\n",
    "    for x in wrong_mix_index:\n",
    "      # Check if the letter is contained in the list of remaining letters\n",
    "      if guess[x] in secret_copy:\n",
    "        wrong_place_index.append(x)\n",
    "        secret_copy.remove(guess[x])\n",
    "      else:\n",
    "        wrong_index.append(x)\n",
    "        \n",
    "    # Setting the colours\n",
    "    for i in range(5):\n",
    "      if i in correct_index:\n",
    "        colour_values[guess_number][i] = 2\n",
    "      elif i in wrong_index:\n",
    "        colour_values[guess_number][i] = 0\n",
    "      elif i in wrong_place_index:\n",
    "        colour_values[guess_number][i] = 1\n",
    "      else:\n",
    "        raise ValueError(\"Letter index is not contained in any of the lists\")\n",
    "\n",
    "    # Completely clears the output. I tried other methods to update the wordle, \n",
    "    # this is the only thing that would work.\n",
    "    clear_output(wait = False)\n",
    "    # Produces the visuals\n",
    "    fig, ax = plt.subplots(figsize = (7, 5))\n",
    "    ax = sns.heatmap(colour_values, cmap = sns.color_palette(colours, as_cmap = True), \n",
    "              annot = wordle_guesses, fmt = \"\", cbar = False, \n",
    "              xticklabels = False, yticklabels = False, linewidths = 1, linecolor = 'black',\n",
    "              vmin = 0, vmax = 2)\n",
    "    plt.show()\n",
    "    # Increments the number of guesses.\n",
    "    guess_number += 1\n",
    "    # Win condition.\n",
    "    if guess == secret_word:\n",
    "      win = True\n",
    "      break\n",
    "\n",
    "  if win == True:\n",
    "    print(f\"Congratulations, {secret_word} was the correct answer and you have won Wordle.\")\n",
    "  else:\n",
    "    print(f\"You suck, stop playing. The word was {secret_word}.\")"
   ]
  },
  {
   "cell_type": "code",
   "execution_count": 18,
   "metadata": {
    "colab": {
     "base_uri": "https://localhost:8080/",
     "height": 613
    },
    "id": "3Wn3NvZxU3VP",
    "outputId": "da9552a8-b4e4-4ddd-9e36-2aff3512d49d"
   },
   "outputs": [
    {
     "data": {
      "image/png": "[encoded data removed]",
      "text/plain": [
       "<Figure size 504x360 with 1 Axes>"
      ]
     },
     "metadata": {},
     "output_type": "display_data"
    },
    {
     "name": "stdout",
     "output_type": "stream",
     "text": [
      "You suck, stop playing. The word was DIEMS.\n"
     ]
    }
   ],
   "source": [
    "graphical_wordle(all_words)"
   ]
  },
  {
   "cell_type": "code",
   "execution_count": null,
   "metadata": {
    "id": "4EWVbxcsVbL1"
   },
   "outputs": [],
   "source": []
  }
 ],
 "metadata": {
  "colab": {
   "collapsed_sections": [],
   "name": "Untitled0.ipynb",
   "provenance": []
  },
  "kernelspec": {
   "display_name": "Python 3",
   "language": "python",
   "name": "python3"
  },
  "language_info": {
   "codemirror_mode": {
    "name": "ipython",
    "version": 3
   },
   "file_extension": ".py",
   "mimetype": "text/x-python",
   "name": "python",
   "nbconvert_exporter": "python",
   "pygments_lexer": "ipython3",
   "version": "3.8.5"
  }
 },
 "nbformat": 4,
 "nbformat_minor": 4
}
